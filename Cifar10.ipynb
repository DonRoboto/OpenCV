{
  "nbformat": 4,
  "nbformat_minor": 0,
  "metadata": {
    "colab": {
      "name": "Cifar10.ipynb",
      "provenance": [],
      "authorship_tag": "ABX9TyMwRHkVKSLFO62K3MCibhH5",
      "include_colab_link": true
    },
    "kernelspec": {
      "name": "python3",
      "display_name": "Python 3"
    }
  },
  "cells": [
    {
      "cell_type": "markdown",
      "metadata": {
        "id": "view-in-github",
        "colab_type": "text"
      },
      "source": [
        "<a href=\"https://colab.research.google.com/github/DonRoboto/OpenCV/blob/master/Cifar10.ipynb\" target=\"_parent\"><img src=\"https://colab.research.google.com/assets/colab-badge.svg\" alt=\"Open In Colab\"/></a>"
      ]
    },
    {
      "cell_type": "code",
      "metadata": {
        "id": "wJZUbKVKhEth",
        "colab_type": "code",
        "colab": {}
      },
      "source": [
        "#cargar librerias\n",
        "import matplotlib.pyplot as plt\n",
        "import numpy as np\n",
        "\n",
        "from keras.datasets import cifar10\n",
        "from keras.models import Sequential\n",
        "from keras.layers import Conv2D, MaxPooling2D, Flatten, Dense\n",
        "from keras import optimizers, backend\n",
        "from keras.utils import np_utils\n",
        "from keras.callbacks import ModelCheckpoint"
      ],
      "execution_count": 0,
      "outputs": []
    },
    {
      "cell_type": "code",
      "metadata": {
        "id": "0a7WXN0yiSbP",
        "colab_type": "code",
        "colab": {}
      },
      "source": [
        "#separar datos de entrenamiento y test\n",
        "(x_train, y_train), (x_test, y_test) = cifar10.load_data()"
      ],
      "execution_count": 0,
      "outputs": []
    },
    {
      "cell_type": "code",
      "metadata": {
        "id": "Utg83QdsidKZ",
        "colab_type": "code",
        "outputId": "43ea89a9-b0a8-403a-95e6-65ab4f1bb935",
        "colab": {
          "base_uri": "https://localhost:8080/",
          "height": 90
        }
      },
      "source": [
        "#mostrar cuanto hay de entrenamiento y test\n",
        "print(\"x_train=\", x_train.shape[0])\n",
        "print(\"y_train=\", y_train.shape[0])\n",
        "print(\"x_test=\", x_test.shape[0])\n",
        "print(\"y_test=\", y_test.shape[0])"
      ],
      "execution_count": 31,
      "outputs": [
        {
          "output_type": "stream",
          "text": [
            "x_train= 50000\n",
            "y_train= 50000\n",
            "x_test= 10000\n",
            "y_test= 10000\n"
          ],
          "name": "stdout"
        }
      ]
    },
    {
      "cell_type": "code",
      "metadata": {
        "id": "veRw9C27iwDF",
        "colab_type": "code",
        "outputId": "ddeb4f19-d1f4-4173-9451-e2c37c67b19f",
        "colab": {
          "base_uri": "https://localhost:8080/",
          "height": 284
        }
      },
      "source": [
        "#mostrar una imagen y etiqueta\n",
        "n_imagen = 24678\n",
        "etiqueta = y_train[n_imagen]\n",
        "plt.imshow(x_train[n_imagen], cmap='gray')\n",
        "plt.show()\n",
        "print(\"la imagen {} corresponde con la etiqueta {}\".format(n_imagen, etiqueta))"
      ],
      "execution_count": 32,
      "outputs": [
        {
          "output_type": "display_data",
          "data": {
            "image/png": "[encoded data removed]",
            "text/plain": [
              "<Figure size 432x288 with 1 Axes>"
            ]
          },
          "metadata": {
            "tags": [],
            "needs_background": "light"
          }
        },
        {
          "output_type": "stream",
          "text": [
            "la imagen 24678 corresponde con la etiqueta [1]\n"
          ],
          "name": "stdout"
        }
      ]
    },
    {
      "cell_type": "code",
      "metadata": {
        "id": "-1YFwcIsjjGP",
        "colab_type": "code",
        "colab": {}
      },
      "source": [
        "#normalizar valores\n",
        "x_train = x_train.astype('float32')\n",
        "x_test = x_test.astype('float32')\n",
        "\n",
        "x_train = x_train / 255.0\n",
        "x_test = x_test / 255.0"
      ],
      "execution_count": 0,
      "outputs": []
    },
    {
      "cell_type": "code",
      "metadata": {
        "id": "ZiKwgcqNj6-w",
        "colab_type": "code",
        "outputId": "935de946-29f4-4c78-c294-38222d953933",
        "colab": {
          "base_uri": "https://localhost:8080/",
          "height": 35
        }
      },
      "source": [
        "#convertir clases a one hot encoding\n",
        "y_train1 = np_utils.to_categorical(y_train)\n",
        "y_test1 = np_utils.to_categorical(y_test)\n",
        "\n",
        "print(y_train[100], \"->\", y_train1[100])"
      ],
      "execution_count": 34,
      "outputs": [
        {
          "output_type": "stream",
          "text": [
            "[8] -> [0. 0. 0. 0. 0. 0. 0. 0. 1. 0.]\n"
          ],
          "name": "stdout"
        }
      ]
    },
    {
      "cell_type": "code",
      "metadata": {
        "id": "HM3KqkLPlACk",
        "colab_type": "code",
        "colab": {}
      },
      "source": [
        "#arquitectura del modelo \n",
        "modeloConv = Sequential()\n",
        "modeloConv.add(Conv2D(32, kernel_size=(3,3), activation='relu', use_bias=True, input_shape=(32,32,3)))\n",
        "modeloConv.add(Conv2D(64, kernel_size=(3,3), activation='relu', use_bias=True))\n",
        "modeloConv.add(MaxPooling2D(pool_size=(2,2)))\n",
        "modeloConv.add(Conv2D(128, kernel_size=(3,3), activation='relu', use_bias=True))\n",
        "modeloConv.add(MaxPooling2D(pool_size=(2,2)))\n",
        "modeloConv.add(Conv2D(128, kernel_size=(3,3), activation='relu', use_bias=True))\n",
        "modeloConv.add(MaxPooling2D(pool_size=(2,2)))\n",
        "modeloConv.add(Flatten())\n",
        "modeloConv.add(Dense(1024, activation='relu', use_bias=True))\n",
        "modeloConv.add(Dense(10, activation='softmax'))"
      ],
      "execution_count": 0,
      "outputs": []
    },
    {
      "cell_type": "code",
      "metadata": {
        "id": "p50MZunKVjPP",
        "colab_type": "code",
        "colab": {
          "base_uri": "https://localhost:8080/",
          "height": 531
        },
        "outputId": "cf8f8ec3-985b-4097-8b1a-ef5fa3add702"
      },
      "source": [
        "#resumen del modelo\n",
        "modeloConv.summary()"
      ],
      "execution_count": 36,
      "outputs": [
        {
          "output_type": "stream",
          "text": [
            "Model: \"sequential_4\"\n",
            "_________________________________________________________________\n",
            "Layer (type)                 Output Shape              Param #   \n",
            "=================================================================\n",
            "conv2d_11 (Conv2D)           (None, 30, 30, 32)        896       \n",
            "_________________________________________________________________\n",
            "conv2d_12 (Conv2D)           (None, 28, 28, 64)        18496     \n",
            "_________________________________________________________________\n",
            "max_pooling2d_7 (MaxPooling2 (None, 14, 14, 64)        0         \n",
            "_________________________________________________________________\n",
            "conv2d_13 (Conv2D)           (None, 12, 12, 128)       73856     \n",
            "_________________________________________________________________\n",
            "max_pooling2d_8 (MaxPooling2 (None, 6, 6, 128)         0         \n",
            "_________________________________________________________________\n",
            "conv2d_14 (Conv2D)           (None, 4, 4, 128)         147584    \n",
            "_________________________________________________________________\n",
            "max_pooling2d_9 (MaxPooling2 (None, 2, 2, 128)         0         \n",
            "_________________________________________________________________\n",
            "flatten_2 (Flatten)          (None, 512)               0         \n",
            "_________________________________________________________________\n",
            "dense_3 (Dense)              (None, 1024)              525312    \n",
            "_________________________________________________________________\n",
            "dense_4 (Dense)              (None, 10)                10250     \n",
            "=================================================================\n",
            "Total params: 776,394\n",
            "Trainable params: 776,394\n",
            "Non-trainable params: 0\n",
            "_________________________________________________________________\n"
          ],
          "name": "stdout"
        }
      ]
    },
    {
      "cell_type": "code",
      "metadata": {
        "id": "qp4DXW0VVy17",
        "colab_type": "code",
        "colab": {}
      },
      "source": [
        "#optimizador y compilacion del modelo\n",
        "adam = optimizers.Adam(lr=0.01, beta_1=0.9, beta_2=0.999, epsilon=1e-8, decay=0.0)\n",
        "modeloConv.compile(optimizer=adam, loss='categorical_crossentropy', metrics=['accuracy'])"
      ],
      "execution_count": 0,
      "outputs": []
    },
    {
      "cell_type": "code",
      "metadata": {
        "id": "oR6b-A01Wxxa",
        "colab_type": "code",
        "colab": {}
      },
      "source": [
        "#salvar el modelo\n",
        "checkpointer = ModelCheckpoint('modelo_v1.h5', monitor='val_accuracy', save_best_only=True, mode='max', verbose=1 )"
      ],
      "execution_count": 0,
      "outputs": []
    },
    {
      "cell_type": "code",
      "metadata": {
        "id": "teYkTI4XWg4J",
        "colab_type": "code",
        "colab": {
          "base_uri": "https://localhost:8080/",
          "height": 256
        },
        "outputId": "6b0c83bd-b73f-484b-94ba-59467fac23b1"
      },
      "source": [
        "#entrenamiento\n",
        "M = modeloConv.fit(x_train, y_train1, validation_data=(x_test, y_test1), epochs=3, batch_size=32, shuffle=True, callbacks=[checkpointer], verbose=1 )"
      ],
      "execution_count": 42,
      "outputs": [
        {
          "output_type": "stream",
          "text": [
            "Train on 50000 samples, validate on 10000 samples\n",
            "Epoch 1/3\n",
            "50000/50000 [==============================] - 279s 6ms/step - loss: 2.3242 - accuracy: 0.0996 - val_loss: 2.3035 - val_accuracy: 0.1000\n",
            "\n",
            "Epoch 00001: val_accuracy improved from -inf to 0.10000, saving model to modelo_v1.h5\n",
            "Epoch 2/3\n",
            "50000/50000 [==============================] - 275s 6ms/step - loss: 2.3038 - accuracy: 0.1010 - val_loss: 2.3042 - val_accuracy: 0.1000\n",
            "\n",
            "Epoch 00002: val_accuracy did not improve from 0.10000\n",
            "Epoch 3/3\n",
            "50000/50000 [==============================] - 280s 6ms/step - loss: 2.3042 - accuracy: 0.0994 - val_loss: 2.3029 - val_accuracy: 0.1000\n",
            "\n",
            "Epoch 00003: val_accuracy did not improve from 0.10000\n"
          ],
          "name": "stdout"
        }
      ]
    },
    {
      "cell_type": "code",
      "metadata": {
        "id": "MUESx9l9ZYPU",
        "colab_type": "code",
        "colab": {}
      },
      "source": [
        "#leer los pesos guardados sin tener que entrenar nuevamente\n",
        "#modeloConv.load_weights('modelo_v1.h5')"
      ],
      "execution_count": 0,
      "outputs": []
    },
    {
      "cell_type": "code",
      "metadata": {
        "id": "B8Hx4VfSXbs9",
        "colab_type": "code",
        "colab": {
          "base_uri": "https://localhost:8080/",
          "height": 279
        },
        "outputId": "95a3d44c-4839-4eb3-f62b-429158d9dc2c"
      },
      "source": [
        "#graficar metricas\n",
        "plt.plot(M.history['accuracy'], label='entrenamiento')\n",
        "plt.plot(M.history['val_accuracy'], label='validacion')\n",
        "plt.legend(loc='lower right')\n",
        "plt.xlabel('epocas')\n",
        "plt.ylabel('accuracy')\n",
        "plt.show()"
      ],
      "execution_count": 43,
      "outputs": [
        {
          "output_type": "display_data",
          "data": {
            "image/png": "[encoded data removed]",
            "text/plain": [
              "<Figure size 432x288 with 1 Axes>"
            ]
          },
          "metadata": {
            "tags": [],
            "needs_background": "light"
          }
        }
      ]
    },
    {
      "cell_type": "code",
      "metadata": {
        "id": "cXmXArytX9By",
        "colab_type": "code",
        "colab": {
          "base_uri": "https://localhost:8080/",
          "height": 284
        },
        "outputId": "3108a23a-7326-44c0-cd27-ad2e49da77ee"
      },
      "source": [
        "#probar una clasificacion\n",
        "n_imagen = 1000\n",
        "imagen = x_test[n_imagen]\n",
        "etiqueta = y_test[n_imagen]\n",
        "prediccion = modeloConv.predict_classes(imagen.reshape(1, 32,32,3))\n",
        "\n",
        "plt.imshow(imagen)\n",
        "plt.show()\n",
        "print(\"la imagen {} tiene la etiqueta {} y el modelo la clasifica como {}\".format(n_imagen, etiqueta, prediccion))"
      ],
      "execution_count": 45,
      "outputs": [
        {
          "output_type": "display_data",
          "data": {
            "image/png": "[encoded data removed]",
            "text/plain": [
              "<Figure size 432x288 with 1 Axes>"
            ]
          },
          "metadata": {
            "tags": [],
            "needs_background": "light"
          }
        },
        {
          "output_type": "stream",
          "text": [
            "la imagen 1000 tiene la etiqueta [5] y el modelo la clasifica como [5]\n"
          ],
          "name": "stdout"
        }
      ]
    },
    {
      "cell_type": "code",
      "metadata": {
        "id": "whD1nZI6Y4HL",
        "colab_type": "code",
        "colab": {
          "base_uri": "https://localhost:8080/",
          "height": 72
        },
        "outputId": "08263ada-39f7-4d4a-cdef-1d3d6aa25e38"
      },
      "source": [
        "#evaluacion general del modelo\n",
        "evaluacion = modeloConv.evaluate(x_test, y_test1)\n",
        "error = evaluacion[0]\n",
        "accuracy = evaluacion[1]\n",
        "print(\"error final del modelo {}\".format(error))\n",
        "print(\"accuracy final del modelo {}\".format(accuracy))"
      ],
      "execution_count": 47,
      "outputs": [
        {
          "output_type": "stream",
          "text": [
            "10000/10000 [==============================] - 13s 1ms/step\n",
            "error final del modelo 2.3029304206848145\n",
            "accuracy final del modelo 0.10000000149011612\n"
          ],
          "name": "stdout"
        }
      ]
    }
  ]
}